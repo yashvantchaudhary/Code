{
 "cells": [
  {
   "cell_type": "code",
   "execution_count": 1,
   "id": "a60b27c5-72cd-412e-b280-e799f27e920d",
   "metadata": {},
   "outputs": [
    {
     "data": {
      "text/plain": [
       "3"
      ]
     },
     "execution_count": 1,
     "metadata": {},
     "output_type": "execute_result"
    }
   ],
   "source": [
    "1+2"
   ]
  },
  {
   "cell_type": "code",
   "execution_count": 2,
   "id": "7373a35c-429d-469b-93ff-5a4ffe6ad9c7",
   "metadata": {},
   "outputs": [],
   "source": [
    "a = 10"
   ]
  },
  {
   "cell_type": "code",
   "execution_count": 3,
   "id": "77e18856-0ea9-4c17-9c08-c3fa26a29716",
   "metadata": {},
   "outputs": [
    {
     "data": {
      "text/plain": [
       "10"
      ]
     },
     "execution_count": 3,
     "metadata": {},
     "output_type": "execute_result"
    }
   ],
   "source": [
    "a"
   ]
  },
  {
   "cell_type": "code",
   "execution_count": 4,
   "id": "1c5ebd6a-8626-4578-9467-9efdd1559225",
   "metadata": {},
   "outputs": [],
   "source": [
    "yashvant = 345678"
   ]
  },
  {
   "cell_type": "code",
   "execution_count": 5,
   "id": "bf24dad7-5514-4407-bafe-9382f6fcbda8",
   "metadata": {},
   "outputs": [
    {
     "data": {
      "text/plain": [
       "345678"
      ]
     },
     "execution_count": 5,
     "metadata": {},
     "output_type": "execute_result"
    }
   ],
   "source": [
    "yashvant"
   ]
  },
  {
   "cell_type": "code",
   "execution_count": 6,
   "id": "24586e7b-6cad-42b4-8efd-c0856e736d85",
   "metadata": {},
   "outputs": [
    {
     "data": {
      "text/plain": [
       "int"
      ]
     },
     "execution_count": 6,
     "metadata": {},
     "output_type": "execute_result"
    }
   ],
   "source": [
    "type(a)"
   ]
  },
  {
   "cell_type": "code",
   "execution_count": 7,
   "id": "fcde2670-67ec-4046-9a88-926c3865553e",
   "metadata": {},
   "outputs": [],
   "source": [
    "y = \"heaven\""
   ]
  },
  {
   "cell_type": "code",
   "execution_count": 8,
   "id": "9a3f5ee0-55fb-45cd-8db1-a39c88615b64",
   "metadata": {},
   "outputs": [
    {
     "data": {
      "text/plain": [
       "str"
      ]
     },
     "execution_count": 8,
     "metadata": {},
     "output_type": "execute_result"
    }
   ],
   "source": [
    "type(y)"
   ]
  },
  {
   "cell_type": "code",
   "execution_count": 10,
   "id": "f42b0d83-072f-4407-8aff-d4d559ece702",
   "metadata": {},
   "outputs": [],
   "source": [
    "y1 = \"this is my first lecture\""
   ]
  },
  {
   "cell_type": "code",
   "execution_count": 11,
   "id": "7ef8f7cf-bcd7-4779-99fb-7bc42bebd3b6",
   "metadata": {},
   "outputs": [
    {
     "data": {
      "text/plain": [
       "str"
      ]
     },
     "execution_count": 11,
     "metadata": {},
     "output_type": "execute_result"
    }
   ],
   "source": [
    "type(y1)"
   ]
  },
  {
   "cell_type": "code",
   "execution_count": 12,
   "id": "d94ab0fb-085a-4bef-ad4d-36a7969c5ef8",
   "metadata": {},
   "outputs": [],
   "source": [
    "f = 456.098"
   ]
  },
  {
   "cell_type": "code",
   "execution_count": 13,
   "id": "bf5a5cb7-01ee-4ece-a761-19dda440bc5d",
   "metadata": {},
   "outputs": [
    {
     "data": {
      "text/plain": [
       "float"
      ]
     },
     "execution_count": 13,
     "metadata": {},
     "output_type": "execute_result"
    }
   ],
   "source": [
    "type(f)"
   ]
  },
  {
   "cell_type": "code",
   "execution_count": 14,
   "id": "9226e7fe-a13a-4a7a-ad00-290c88c76bce",
   "metadata": {},
   "outputs": [],
   "source": [
    "c = 5 + 7j"
   ]
  },
  {
   "cell_type": "code",
   "execution_count": 15,
   "id": "423fb835-f4a2-4d8e-b1d5-ecf875d1a46b",
   "metadata": {},
   "outputs": [
    {
     "data": {
      "text/plain": [
       "complex"
      ]
     },
     "execution_count": 15,
     "metadata": {},
     "output_type": "execute_result"
    }
   ],
   "source": [
    "type(c)"
   ]
  },
  {
   "cell_type": "code",
   "execution_count": 16,
   "id": "ccd958dc-c1a0-4e43-b53e-a0b489ac96aa",
   "metadata": {},
   "outputs": [
    {
     "data": {
      "text/plain": [
       "5.0"
      ]
     },
     "execution_count": 16,
     "metadata": {},
     "output_type": "execute_result"
    }
   ],
   "source": [
    "c.real"
   ]
  },
  {
   "cell_type": "code",
   "execution_count": 18,
   "id": "263b96ba-51fe-4304-aab3-96176e91b824",
   "metadata": {},
   "outputs": [
    {
     "data": {
      "text/plain": [
       "7.0"
      ]
     },
     "execution_count": 18,
     "metadata": {},
     "output_type": "execute_result"
    }
   ],
   "source": [
    "c.imag"
   ]
  },
  {
   "cell_type": "code",
   "execution_count": 19,
   "id": "f9309517-ec2a-49f3-bb88-86e749c5da2d",
   "metadata": {},
   "outputs": [],
   "source": [
    "b = True"
   ]
  },
  {
   "cell_type": "code",
   "execution_count": 20,
   "id": "2b519a99-a260-45fa-acf3-a4cc5a6de8ad",
   "metadata": {},
   "outputs": [
    {
     "data": {
      "text/plain": [
       "bool"
      ]
     },
     "execution_count": 20,
     "metadata": {},
     "output_type": "execute_result"
    }
   ],
   "source": [
    "type(b)"
   ]
  },
  {
   "cell_type": "code",
   "execution_count": 21,
   "id": "25a8258f-3c51-4d66-a32e-6f47697cae5f",
   "metadata": {},
   "outputs": [],
   "source": [
    "b1 = False"
   ]
  },
  {
   "cell_type": "code",
   "execution_count": 22,
   "id": "f4dfa965-e82a-4193-aeb1-8c860235186f",
   "metadata": {},
   "outputs": [
    {
     "data": {
      "text/plain": [
       "False"
      ]
     },
     "execution_count": 22,
     "metadata": {},
     "output_type": "execute_result"
    }
   ],
   "source": [
    "b1"
   ]
  },
  {
   "cell_type": "code",
   "execution_count": 23,
   "id": "b4db3957-24b2-4f22-bb21-3513e4f73fa9",
   "metadata": {},
   "outputs": [],
   "source": [
    "a1 = 45\n",
    "a2 = 54"
   ]
  },
  {
   "cell_type": "code",
   "execution_count": 24,
   "id": "893562d5-8112-4ba3-b3f0-0c095c2cdf19",
   "metadata": {},
   "outputs": [
    {
     "data": {
      "text/plain": [
       "99"
      ]
     },
     "execution_count": 24,
     "metadata": {},
     "output_type": "execute_result"
    }
   ],
   "source": [
    "a1 + a2"
   ]
  },
  {
   "cell_type": "code",
   "execution_count": 25,
   "id": "5f9420a1-dd47-4109-ac28-01094937a1d1",
   "metadata": {},
   "outputs": [
    {
     "data": {
      "text/plain": [
       "9"
      ]
     },
     "execution_count": 25,
     "metadata": {},
     "output_type": "execute_result"
    }
   ],
   "source": [
    "a2 - a1"
   ]
  },
  {
   "cell_type": "code",
   "execution_count": 26,
   "id": "57ee1f45-a26b-4849-87b3-597c19d6e731",
   "metadata": {},
   "outputs": [
    {
     "data": {
      "text/plain": [
       "0.8333333333333334"
      ]
     },
     "execution_count": 26,
     "metadata": {},
     "output_type": "execute_result"
    }
   ],
   "source": [
    "a1/a2"
   ]
  },
  {
   "cell_type": "code",
   "execution_count": 27,
   "id": "bae464b7-31d3-45e4-bffd-13815c6564c7",
   "metadata": {},
   "outputs": [],
   "source": [
    "a1, a2 = 45, 54"
   ]
  },
  {
   "cell_type": "code",
   "execution_count": 28,
   "id": "e5f2416d-9f3d-4a07-85bb-f10fb5050ad6",
   "metadata": {},
   "outputs": [
    {
     "data": {
      "text/plain": [
       "45"
      ]
     },
     "execution_count": 28,
     "metadata": {},
     "output_type": "execute_result"
    }
   ],
   "source": [
    "a1"
   ]
  },
  {
   "cell_type": "code",
   "execution_count": 29,
   "id": "c0b90bed-faa1-4fad-bf46-cb5184521ac3",
   "metadata": {},
   "outputs": [
    {
     "data": {
      "text/plain": [
       "54"
      ]
     },
     "execution_count": 29,
     "metadata": {},
     "output_type": "execute_result"
    }
   ],
   "source": [
    "a2"
   ]
  },
  {
   "cell_type": "code",
   "execution_count": 31,
   "id": "e3774c96-64e5-4ac5-ae9d-bfa1447ec24f",
   "metadata": {},
   "outputs": [],
   "source": [
    "a, b, c, d = 356, \"yash\", 34.64, True"
   ]
  },
  {
   "cell_type": "code",
   "execution_count": 32,
   "id": "38b129f8-f835-4a4a-accb-513e9ff76895",
   "metadata": {},
   "outputs": [
    {
     "data": {
      "text/plain": [
       "356"
      ]
     },
     "execution_count": 32,
     "metadata": {},
     "output_type": "execute_result"
    }
   ],
   "source": [
    "a"
   ]
  },
  {
   "cell_type": "code",
   "execution_count": 33,
   "id": "7d5602b5-1f96-4607-8ba5-f05e872a63b8",
   "metadata": {},
   "outputs": [
    {
     "data": {
      "text/plain": [
       "'yash'"
      ]
     },
     "execution_count": 33,
     "metadata": {},
     "output_type": "execute_result"
    }
   ],
   "source": [
    "b"
   ]
  },
  {
   "cell_type": "code",
   "execution_count": 34,
   "id": "238c86b8-1065-4241-8fda-c5ceb5c0e85e",
   "metadata": {},
   "outputs": [
    {
     "data": {
      "text/plain": [
       "34.64"
      ]
     },
     "execution_count": 34,
     "metadata": {},
     "output_type": "execute_result"
    }
   ],
   "source": [
    "c"
   ]
  },
  {
   "cell_type": "code",
   "execution_count": 35,
   "id": "cfc8d0db-bd1e-4499-9ac7-0a139c401c48",
   "metadata": {},
   "outputs": [
    {
     "data": {
      "text/plain": [
       "True"
      ]
     },
     "execution_count": 35,
     "metadata": {},
     "output_type": "execute_result"
    }
   ],
   "source": [
    "d"
   ]
  },
  {
   "cell_type": "code",
   "execution_count": 36,
   "id": "470d46c7-3391-4e9d-975b-4e29950fa7ce",
   "metadata": {},
   "outputs": [],
   "source": [
    "_a = 34"
   ]
  },
  {
   "cell_type": "code",
   "execution_count": 37,
   "id": "6337fdf0-dfd3-45ac-ab92-e2e24ecc1b31",
   "metadata": {},
   "outputs": [
    {
     "ename": "SyntaxError",
     "evalue": "cannot assign to expression here. Maybe you meant '==' instead of '='? (1694425758.py, line 1)",
     "output_type": "error",
     "traceback": [
      "\u001b[0;36m  Cell \u001b[0;32mIn[37], line 1\u001b[0;36m\u001b[0m\n\u001b[0;31m    -b = 234\u001b[0m\n\u001b[0m    ^\u001b[0m\n\u001b[0;31mSyntaxError\u001b[0m\u001b[0;31m:\u001b[0m cannot assign to expression here. Maybe you meant '==' instead of '='?\n"
     ]
    }
   ],
   "source": [
    "-b = 234"
   ]
  },
  {
   "cell_type": "code",
   "execution_count": 4,
   "id": "6a85ec09-8baf-4d1e-8c1e-df5bf78f3905",
   "metadata": {},
   "outputs": [],
   "source": [
    "int = 345"
   ]
  },
  {
   "cell_type": "code",
   "execution_count": 39,
   "id": "81da85e9-459a-4871-8490-b18457840007",
   "metadata": {},
   "outputs": [
    {
     "data": {
      "text/plain": [
       "345"
      ]
     },
     "execution_count": 39,
     "metadata": {},
     "output_type": "execute_result"
    }
   ],
   "source": [
    "int"
   ]
  },
  {
   "cell_type": "code",
   "execution_count": 40,
   "id": "54bf806e-861e-4f59-9751-55663b12456f",
   "metadata": {},
   "outputs": [],
   "source": [
    "b1 = True"
   ]
  },
  {
   "cell_type": "code",
   "execution_count": 41,
   "id": "96c54d57-6767-4534-acbd-80e0e349e973",
   "metadata": {},
   "outputs": [],
   "source": [
    "b2 = False"
   ]
  },
  {
   "cell_type": "code",
   "execution_count": 42,
   "id": "60bd1892-b969-47fe-a2c1-cccd0fd338e5",
   "metadata": {},
   "outputs": [
    {
     "data": {
      "text/plain": [
       "1"
      ]
     },
     "execution_count": 42,
     "metadata": {},
     "output_type": "execute_result"
    }
   ],
   "source": [
    "b1-b2"
   ]
  },
  {
   "cell_type": "code",
   "execution_count": 43,
   "id": "1625803f-e10a-4bcf-9f9f-f6780339ab21",
   "metadata": {},
   "outputs": [
    {
     "ename": "ZeroDivisionError",
     "evalue": "division by zero",
     "output_type": "error",
     "traceback": [
      "\u001b[0;31m---------------------------------------------------------------------------\u001b[0m",
      "\u001b[0;31mZeroDivisionError\u001b[0m                         Traceback (most recent call last)",
      "Cell \u001b[0;32mIn[43], line 1\u001b[0m\n\u001b[0;32m----> 1\u001b[0m \u001b[43mb1\u001b[49m\u001b[38;5;241;43m/\u001b[39;49m\u001b[43mb2\u001b[49m\n",
      "\u001b[0;31mZeroDivisionError\u001b[0m: division by zero"
     ]
    }
   ],
   "source": [
    "b1/b2"
   ]
  },
  {
   "cell_type": "code",
   "execution_count": 44,
   "id": "e4ecc37c-b6ee-4604-99a3-79f15533e4b0",
   "metadata": {},
   "outputs": [
    {
     "data": {
      "text/plain": [
       "1"
      ]
     },
     "execution_count": 44,
     "metadata": {},
     "output_type": "execute_result"
    }
   ],
   "source": [
    "b1*b1"
   ]
  },
  {
   "cell_type": "code",
   "execution_count": 45,
   "id": "8b2ae5d3-7161-4bff-b847-e19dded05f0b",
   "metadata": {},
   "outputs": [],
   "source": [
    "s1 = ' my name is yashvant'"
   ]
  },
  {
   "cell_type": "code",
   "execution_count": 46,
   "id": "04ccd537-1071-43b1-bf16-1eb08d448821",
   "metadata": {},
   "outputs": [
    {
     "data": {
      "text/plain": [
       "str"
      ]
     },
     "execution_count": 46,
     "metadata": {},
     "output_type": "execute_result"
    }
   ],
   "source": [
    "type(s1)"
   ]
  },
  {
   "cell_type": "code",
   "execution_count": 49,
   "id": "424d6f97-04e5-417c-937d-46192836b889",
   "metadata": {},
   "outputs": [],
   "source": [
    "s2 = \"This is my first data science master's\""
   ]
  },
  {
   "cell_type": "code",
   "execution_count": 50,
   "id": "994a3768-3308-4836-ab61-7c77db728ba3",
   "metadata": {},
   "outputs": [
    {
     "data": {
      "text/plain": [
       "\"This is my first data science master's\""
      ]
     },
     "execution_count": 50,
     "metadata": {},
     "output_type": "execute_result"
    }
   ],
   "source": [
    "s2"
   ]
  },
  {
   "cell_type": "code",
   "execution_count": 51,
   "id": "56f8d2d5-e357-4182-9f4b-106cda2387a8",
   "metadata": {},
   "outputs": [],
   "source": [
    "s2 = 'This is my first data science master\"s'"
   ]
  },
  {
   "cell_type": "code",
   "execution_count": 2,
   "id": "c162d142-bcf5-4b6b-a675-6b065e81ad78",
   "metadata": {},
   "outputs": [
    {
     "ename": "NameError",
     "evalue": "name 's2' is not defined",
     "output_type": "error",
     "traceback": [
      "\u001b[0;31m---------------------------------------------------------------------------\u001b[0m",
      "\u001b[0;31mNameError\u001b[0m                                 Traceback (most recent call last)",
      "Cell \u001b[0;32mIn[2], line 1\u001b[0m\n\u001b[0;32m----> 1\u001b[0m \u001b[43ms2\u001b[49m\n",
      "\u001b[0;31mNameError\u001b[0m: name 's2' is not defined"
     ]
    }
   ],
   "source": [
    "s2"
   ]
  },
  {
   "cell_type": "code",
   "execution_count": 53,
   "id": "ce550ca9-db12-445b-8376-793f6426c514",
   "metadata": {},
   "outputs": [],
   "source": [
    "#this is my code to create a string variable with quotes\n",
    "s3 = 'This is my first data science master\"s'"
   ]
  },
  {
   "cell_type": "code",
   "execution_count": 54,
   "id": "22f12732-037d-4214-9d7d-802f5dc1b742",
   "metadata": {},
   "outputs": [
    {
     "data": {
      "text/plain": [
       "'This is my first data science master\"s'"
      ]
     },
     "execution_count": 54,
     "metadata": {},
     "output_type": "execute_result"
    }
   ],
   "source": [
    "s3"
   ]
  },
  {
   "cell_type": "code",
   "execution_count": 55,
   "id": "dd8b916d-3314-498b-9cc7-51b188f0a3e3",
   "metadata": {},
   "outputs": [],
   "source": [
    "'''this is my first python class\n",
    "I am trying to learn variable declaration\n",
    "so far I learn int, boolean, string, complex number, float variable declaration'''\n",
    "a = 10"
   ]
  },
  {
   "cell_type": "code",
   "execution_count": 56,
   "id": "55e54edd-9b58-42d0-9a9d-1551236307e5",
   "metadata": {},
   "outputs": [],
   "source": [
    "s1 = \"yash\""
   ]
  },
  {
   "cell_type": "code",
   "execution_count": 57,
   "id": "60e42258-1aab-4898-a5b8-0b48316bf4d9",
   "metadata": {},
   "outputs": [],
   "source": [
    "a1= 10"
   ]
  },
  {
   "cell_type": "code",
   "execution_count": 58,
   "id": "373f9a5a-7ad5-42b5-a64e-f7c0ebb32980",
   "metadata": {},
   "outputs": [
    {
     "ename": "TypeError",
     "evalue": "can only concatenate str (not \"int\") to str",
     "output_type": "error",
     "traceback": [
      "\u001b[0;31m---------------------------------------------------------------------------\u001b[0m",
      "\u001b[0;31mTypeError\u001b[0m                                 Traceback (most recent call last)",
      "Cell \u001b[0;32mIn[58], line 1\u001b[0m\n\u001b[0;32m----> 1\u001b[0m \u001b[43ms1\u001b[49m\u001b[38;5;241;43m+\u001b[39;49m\u001b[43ma1\u001b[49m\n",
      "\u001b[0;31mTypeError\u001b[0m: can only concatenate str (not \"int\") to str"
     ]
    }
   ],
   "source": [
    "s1+a1"
   ]
  },
  {
   "cell_type": "code",
   "execution_count": 59,
   "id": "ecb47cd7-b52e-4282-b733-ab464ecdf5b1",
   "metadata": {},
   "outputs": [
    {
     "data": {
      "text/plain": [
       "'yashkumar'"
      ]
     },
     "execution_count": 59,
     "metadata": {},
     "output_type": "execute_result"
    }
   ],
   "source": [
    "\"yash\" + \"kumar\""
   ]
  },
  {
   "cell_type": "code",
   "execution_count": 60,
   "id": "d13443c4-9655-4c31-9d0b-eb8b2550cc1d",
   "metadata": {},
   "outputs": [],
   "source": [
    "a = 10"
   ]
  },
  {
   "cell_type": "code",
   "execution_count": 61,
   "id": "4b1839a1-2ddd-467a-a54c-d4c4ee7b0a03",
   "metadata": {},
   "outputs": [
    {
     "data": {
      "text/plain": [
       "10"
      ]
     },
     "execution_count": 61,
     "metadata": {},
     "output_type": "execute_result"
    }
   ],
   "source": [
    "a"
   ]
  },
  {
   "cell_type": "code",
   "execution_count": 62,
   "id": "dcd8dfd3-74dc-4c53-a184-b31b038c6825",
   "metadata": {},
   "outputs": [
    {
     "data": {
      "text/plain": [
       "int"
      ]
     },
     "execution_count": 62,
     "metadata": {},
     "output_type": "execute_result"
    }
   ],
   "source": [
    "type(a)"
   ]
  },
  {
   "cell_type": "code",
   "execution_count": 63,
   "id": "013851f1-591b-4742-af33-dbfbe148b31a",
   "metadata": {},
   "outputs": [
    {
     "data": {
      "text/plain": [
       "'10'"
      ]
     },
     "execution_count": 63,
     "metadata": {},
     "output_type": "execute_result"
    }
   ],
   "source": [
    "str(a)"
   ]
  },
  {
   "cell_type": "code",
   "execution_count": 64,
   "id": "abb7e11e-87b7-429f-af65-0487610cca8b",
   "metadata": {},
   "outputs": [
    {
     "data": {
      "text/plain": [
       "'yash 10'"
      ]
     },
     "execution_count": 64,
     "metadata": {},
     "output_type": "execute_result"
    }
   ],
   "source": [
    "s1 + \" \" + str(10)"
   ]
  },
  {
   "cell_type": "code",
   "execution_count": 5,
   "id": "b76943c4-8421-49a7-992e-bdda1b4c2bd9",
   "metadata": {},
   "outputs": [
    {
     "ename": "NameError",
     "evalue": "name 'b' is not defined",
     "output_type": "error",
     "traceback": [
      "\u001b[0;31m---------------------------------------------------------------------------\u001b[0m",
      "\u001b[0;31mNameError\u001b[0m                                 Traceback (most recent call last)",
      "Cell \u001b[0;32mIn[5], line 1\u001b[0m\n\u001b[0;32m----> 1\u001b[0m \u001b[38;5;28mint\u001b[39m(\u001b[43mb\u001b[49m)\n",
      "\u001b[0;31mNameError\u001b[0m: name 'b' is not defined"
     ]
    }
   ],
   "source": [
    "int(b)"
   ]
  },
  {
   "cell_type": "code",
   "execution_count": 6,
   "id": "49498729-f937-4467-ba62-ea8fcbe60a68",
   "metadata": {},
   "outputs": [],
   "source": [
    "a = 234356"
   ]
  },
  {
   "cell_type": "code",
   "execution_count": 12,
   "id": "ea8a0ea3-5695-45a3-bdce-4456bb112edc",
   "metadata": {},
   "outputs": [
    {
     "data": {
      "text/plain": [
       "True"
      ]
     },
     "execution_count": 12,
     "metadata": {},
     "output_type": "execute_result"
    }
   ],
   "source": [
    "b= bool(input())"
   ]
  },
  {
   "cell_type": "code",
   "execution_count": null,
   "id": "a33b7430-996f-4289-9136-60d4429b06a3",
   "metadata": {},
   "outputs": [],
   "source": [
    "b"
   ]
  },
  {
   "cell_type": "code",
   "execution_count": null,
   "id": "58c049d6-53fa-4127-9a90-cddba5cc09c3",
   "metadata": {},
   "outputs": [],
   "source": [
    "type(b)"
   ]
  },
  {
   "cell_type": "code",
   "execution_count": null,
   "id": "e589c94b-ad8f-4a6a-a288-3bfff63f1f1b",
   "metadata": {},
   "outputs": [],
   "source": []
  }
 ],
 "metadata": {
  "kernelspec": {
   "display_name": "Python 3 (ipykernel)",
   "language": "python",
   "name": "python3"
  },
  "language_info": {
   "codemirror_mode": {
    "name": "ipython",
    "version": 3
   },
   "file_extension": ".py",
   "mimetype": "text/x-python",
   "name": "python",
   "nbconvert_exporter": "python",
   "pygments_lexer": "ipython3",
   "version": "3.10.8"
  }
 },
 "nbformat": 4,
 "nbformat_minor": 5
}
