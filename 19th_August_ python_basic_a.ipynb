{
 "cells": [
  {
   "cell_type": "code",
   "execution_count": 5,
   "id": "1eaaccfb-11c2-4e13-a80b-2f513927a9cf",
   "metadata": {},
   "outputs": [],
   "source": [
    "# first question answer-Declare and initialize variables\n",
    "x = 15\n",
    "y = 20"
   ]
  },
  {
   "cell_type": "code",
   "execution_count": 6,
   "id": "f734d3d6-2343-4e11-9d07-da1b3a8be301",
   "metadata": {},
   "outputs": [],
   "source": [
    "# Swap values without temporary variable\n",
    "x = x + y\n",
    "y = x - y\n",
    "x = x - y"
   ]
  },
  {
   "cell_type": "code",
   "execution_count": 7,
   "id": "b9e48549-d196-4d2e-a464-3e118933db93",
   "metadata": {},
   "outputs": [
    {
     "name": "stdout",
     "output_type": "stream",
     "text": [
      "After swapping:\n",
      "x = 20\n",
      "y = 15\n"
     ]
    }
   ],
   "source": [
    "# Now, x contains the original value of y, and y contains the original value of x\n",
    "print(\"After swapping:\")\n",
    "print(\"x =\", x)\n",
    "print(\"y =\", y)"
   ]
  },
  {
   "cell_type": "code",
   "execution_count": 8,
   "id": "06a976e7-f9f9-457a-83ac-03c4ee2088db",
   "metadata": {},
   "outputs": [],
   "source": [
    " #to calculate the area of a rectangle, taking the length and width as inputs from the user, using basic Python code:"
   ]
  },
  {
   "cell_type": "code",
   "execution_count": 9,
   "id": "3fbfebb8-77dd-42a9-acaa-ab4304a84ebb",
   "metadata": {},
   "outputs": [
    {
     "name": "stdin",
     "output_type": "stream",
     "text": [
      "Enter the length of the rectangle:  5\n",
      "Enter the width of the rectangle:  10\n"
     ]
    }
   ],
   "source": [
    "# we take input for length and width from the user\n",
    "length = float(input(\"Enter the length of the rectangle: \")), width = float(input(\"Enter the width of the rectangle: \"))"
   ]
  },
  {
   "cell_type": "code",
   "execution_count": 10,
   "id": "e383367c-8411-4fd9-8c33-c024617571c0",
   "metadata": {},
   "outputs": [],
   "source": [
    "# Calculate the area of the rectangle\n",
    "area = length * width"
   ]
  },
  {
   "cell_type": "code",
   "execution_count": 11,
   "id": "7e4c261b-249d-4ed2-b97e-c5b7c843148b",
   "metadata": {},
   "outputs": [
    {
     "name": "stdout",
     "output_type": "stream",
     "text": [
      "The area of the rectangle is: 50.0\n"
     ]
    }
   ],
   "source": [
    "# Display the calculated area\n",
    "print(\"The area of the rectangle is:\", area)"
   ]
  },
  {
   "cell_type": "code",
   "execution_count": 13,
   "id": "5d533450-e6da-4587-8fb5-ac517233ab1a",
   "metadata": {},
   "outputs": [],
   "source": [
    "#Write a Python program that converts temperatures from Celsius to\n",
    "#Fahrenheit. Take the temperature in Celsius as input, store it in a variable,\n",
    "#convert it to Fahrenheit, and display the result.'''"
   ]
  },
  {
   "cell_type": "code",
   "execution_count": 14,
   "id": "1b7d3cc9-e1c3-4011-89ee-3450926cd24a",
   "metadata": {},
   "outputs": [
    {
     "name": "stdin",
     "output_type": "stream",
     "text": [
      "Enter the temperature in Celsius:  45\n"
     ]
    }
   ],
   "source": [
    "# Take input for temperature in Celsius from the user\n",
    "celsius = float(input(\"Enter the temperature in Celsius: \"))"
   ]
  },
  {
   "cell_type": "code",
   "execution_count": 15,
   "id": "07427c86-5dc3-42b5-95f3-295bbc9295e4",
   "metadata": {},
   "outputs": [],
   "source": [
    "# Convert Celsius to Fahrenheit\n",
    "fahrenheit = (celsius * 9/5) + 32"
   ]
  },
  {
   "cell_type": "code",
   "execution_count": 16,
   "id": "0fbc8653-d5b3-4aac-9edf-916eeabcd7ef",
   "metadata": {},
   "outputs": [
    {
     "name": "stdout",
     "output_type": "stream",
     "text": [
      "Temperature in Fahrenheit: 113.0\n"
     ]
    }
   ],
   "source": [
    "# Display the converted temperature in Fahrenheit\n",
    "print(\"Temperature in Fahrenheit:\", fahrenheit)"
   ]
  },
  {
   "cell_type": "code",
   "execution_count": 17,
   "id": "2dab3ea7-688d-42cb-bbee-99290615ebf9",
   "metadata": {},
   "outputs": [],
   "source": [
    "#Write a Python program that takes a string as input and prints the length of\n",
    "#the string."
   ]
  },
  {
   "cell_type": "code",
   "execution_count": 19,
   "id": "cf6b54f1-de43-486b-9835-963de8e2aee4",
   "metadata": {},
   "outputs": [
    {
     "name": "stdin",
     "output_type": "stream",
     "text": [
      "Enter a string:  'ramesh'\n"
     ]
    }
   ],
   "source": [
    "# Take input string from the user\n",
    "input_string = input(\"Enter a string: \")"
   ]
  },
  {
   "cell_type": "code",
   "execution_count": 20,
   "id": "c35b5c38-7b25-4f31-aa36-9e5a014d87b7",
   "metadata": {},
   "outputs": [],
   "source": [
    "# Calculate the length of the string\n",
    "string_length = len(input_string)"
   ]
  },
  {
   "cell_type": "code",
   "execution_count": 21,
   "id": "4c00c08c-1ac2-4549-932b-79aad5d0b022",
   "metadata": {},
   "outputs": [
    {
     "name": "stdout",
     "output_type": "stream",
     "text": [
      "Length of the string: 8\n"
     ]
    }
   ],
   "source": [
    "# Display the length of the string\n",
    "print(\"Length of the string:\", string_length)"
   ]
  },
  {
   "cell_type": "code",
   "execution_count": 22,
   "id": "b6e8910e-67bf-41ed-98e8-7a1b2dd2282f",
   "metadata": {},
   "outputs": [],
   "source": [
    "#Create a program that takes a sentence from the user and counts the number\n",
    "#of vowels (a, e, i, o, u) in the string."
   ]
  },
  {
   "cell_type": "code",
   "execution_count": 38,
   "id": "43499433-b4cb-4a05-beaa-c3538296fa79",
   "metadata": {},
   "outputs": [
    {
     "name": "stdin",
     "output_type": "stream",
     "text": [
      "Enter a sentence:  Monkey\n"
     ]
    }
   ],
   "source": [
    "#Take a sentence from the user\n",
    "input_sentence = input(\"Enter a sentence: \")"
   ]
  },
  {
   "cell_type": "code",
   "execution_count": 39,
   "id": "25f0c7af-4089-497d-bd87-63ce70071554",
   "metadata": {},
   "outputs": [],
   "source": [
    "# Convert the sentence to lowercase to make the counting case-insensitive\n",
    "input_sentence = input_sentence.lower()"
   ]
  },
  {
   "cell_type": "code",
   "execution_count": 40,
   "id": "2d431f87-e0b3-426f-8509-6b14c5904446",
   "metadata": {},
   "outputs": [],
   "source": [
    "# Define a set of vowel characters\n",
    "vowels = \"aeiou\""
   ]
  },
  {
   "cell_type": "code",
   "execution_count": 41,
   "id": "e51a4f1b-e12a-440f-81ec-881352936c02",
   "metadata": {},
   "outputs": [],
   "source": [
    "# Use the count() method to count the number of vowels in the input sentence\n",
    "vowel_count = sum(input_sentence.count(vowel) for vowel in vowels)"
   ]
  },
  {
   "cell_type": "code",
   "execution_count": 42,
   "id": "a6ace023-f9a7-46ce-ac63-24617c55a600",
   "metadata": {},
   "outputs": [
    {
     "name": "stdout",
     "output_type": "stream",
     "text": [
      "Number of vowels in the sentence: 2\n"
     ]
    }
   ],
   "source": [
    "# Display the count of vowels\n",
    "print(\"Number of vowels in the sentence:\", vowel_count)"
   ]
  },
  {
   "cell_type": "code",
   "execution_count": 43,
   "id": "5cff080b-20e3-4720-85df-a671802a5d6e",
   "metadata": {},
   "outputs": [],
   "source": [
    "#Given a string, reverse the order of characters using string slicing and print\n",
    "#the reversed string."
   ]
  },
  {
   "cell_type": "code",
   "execution_count": 44,
   "id": "964ee7c4-7e22-479a-9a46-043b713271f4",
   "metadata": {},
   "outputs": [
    {
     "name": "stdin",
     "output_type": "stream",
     "text": [
      "Enter a string:  pwskills\n"
     ]
    }
   ],
   "source": [
    "# Take input string from the user\n",
    "input_string = input(\"Enter a string: \")"
   ]
  },
  {
   "cell_type": "code",
   "execution_count": 46,
   "id": "d7fe1801-a802-43ab-a93b-8d9f6dacfe6a",
   "metadata": {},
   "outputs": [],
   "source": [
    "# Reverse the string using slicing\n",
    "reversed_string = input_string[::-1]"
   ]
  },
  {
   "cell_type": "code",
   "execution_count": 47,
   "id": "cb9bef61-26e5-4a64-af5c-61146f806bd5",
   "metadata": {},
   "outputs": [
    {
     "name": "stdout",
     "output_type": "stream",
     "text": [
      "Reversed string: sllikswp\n"
     ]
    }
   ],
   "source": [
    "# Display the reversed string\n",
    "print(\"Reversed string:\", reversed_string)"
   ]
  },
  {
   "cell_type": "code",
   "execution_count": 48,
   "id": "9faedda5-888a-404a-b014-9780b38170df",
   "metadata": {},
   "outputs": [],
   "source": [
    "#Write a program that takes a string as input and checks if it is a palindrome\n",
    "#(reads the same forwards and backwards)."
   ]
  },
  {
   "cell_type": "code",
   "execution_count": 49,
   "id": "e1b33b17-fa4a-4ef3-8358-a434ea20d84a",
   "metadata": {},
   "outputs": [
    {
     "name": "stdin",
     "output_type": "stream",
     "text": [
      "Enter a string:  radar\n"
     ]
    }
   ],
   "source": [
    "# Take input string from the user\n",
    "input_string = input(\"Enter a string: \")"
   ]
  },
  {
   "cell_type": "code",
   "execution_count": 50,
   "id": "2d1d8bcf-1083-4302-b6cf-8560279bc242",
   "metadata": {},
   "outputs": [],
   "source": [
    "# Remove spaces and convert to lowercase for comparison\n",
    "cleaned_string = ''.join(input_string.split()).lower()"
   ]
  },
  {
   "cell_type": "code",
   "execution_count": 51,
   "id": "abca6ea0-8646-43bc-8fad-74c3705c0750",
   "metadata": {},
   "outputs": [
    {
     "name": "stdout",
     "output_type": "stream",
     "text": [
      "The input string is a palindrome.\n"
     ]
    }
   ],
   "source": [
    "# Check if the cleaned string is the same forwards and backwards\n",
    "if cleaned_string == cleaned_string[::-1]:\n",
    "    print(\"The input string is a palindrome.\")\n",
    "else:\n",
    "    print(\"The input string is not a palindrome.\")"
   ]
  },
  {
   "cell_type": "code",
   "execution_count": 52,
   "id": "26fd4d81-9334-453d-a1a0-76e0a8b1db16",
   "metadata": {},
   "outputs": [],
   "source": [
    "#Create a program that takes a string as input and removes all the spaces from\n",
    "#it. Print the modified string without spaces."
   ]
  },
  {
   "cell_type": "code",
   "execution_count": 53,
   "id": "220d17ef-c805-4cf4-af35-d92fbed3a6f3",
   "metadata": {},
   "outputs": [
    {
     "name": "stdin",
     "output_type": "stream",
     "text": [
      "Enter a string:  '      ramesh      '\n"
     ]
    }
   ],
   "source": [
    "# Take input string from the user\n",
    "input_string = input(\"Enter a string: \")"
   ]
  },
  {
   "cell_type": "code",
   "execution_count": 54,
   "id": "4ed6f198-eb31-43bd-bac4-6dd562c5b2a9",
   "metadata": {},
   "outputs": [],
   "source": [
    "# Remove spaces from the string\n",
    "modified_string = input_string.replace(\" \", \"\")"
   ]
  },
  {
   "cell_type": "code",
   "execution_count": 55,
   "id": "3c26d509-26c3-48eb-a011-49d380fc1620",
   "metadata": {},
   "outputs": [
    {
     "name": "stdout",
     "output_type": "stream",
     "text": [
      "Modified string: 'ramesh'\n"
     ]
    }
   ],
   "source": [
    "# Print the modified string\n",
    "print(\"Modified string:\", modified_string)"
   ]
  },
  {
   "cell_type": "code",
   "execution_count": null,
   "id": "527ba3d8-ac82-4e92-ac5f-4cd3a3d718a6",
   "metadata": {},
   "outputs": [],
   "source": []
  }
 ],
 "metadata": {
  "kernelspec": {
   "display_name": "Python 3 (ipykernel)",
   "language": "python",
   "name": "python3"
  },
  "language_info": {
   "codemirror_mode": {
    "name": "ipython",
    "version": 3
   },
   "file_extension": ".py",
   "mimetype": "text/x-python",
   "name": "python",
   "nbconvert_exporter": "python",
   "pygments_lexer": "ipython3",
   "version": "3.10.8"
  }
 },
 "nbformat": 4,
 "nbformat_minor": 5
}
